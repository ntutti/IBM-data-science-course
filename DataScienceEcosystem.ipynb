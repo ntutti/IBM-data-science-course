{
 "cells": [
  {
   "cell_type": "markdown",
   "id": "6b4240f7-9dff-4cc3-937d-aa78ca5f16cf",
   "metadata": {},
   "source": [
    "## Data Science Tools and Ecosystem ##\n",
    "\n",
    "# In this notebook, Data Science Tools and Ecosystem are summarized."
   ]
  },
  {
   "cell_type": "markdown",
   "id": "4a671dda-5718-4b1a-bf09-05938f3e74c8",
   "metadata": {},
   "source": [
    "**objective**\n",
    "* list popular languages for data science\n",
    "* list popular library for data science\n",
    "* list popular IDEs used for data science"
   ]
  },
  {
   "cell_type": "markdown",
   "id": "21f162e2-ea03-4b3d-8dfc-439204bd71de",
   "metadata": {},
   "source": [
    "Some of the popular languages that Data Scientists use are:\n",
    "\n",
    "1- Python\n",
    "\n",
    "2- R & RStudio\n",
    "\n",
    "3-SQL\n",
    "\n",
    "Some of the commonly used libraries used by Data Scientists include:\n",
    "\n",
    "1- Pandas\n",
    "\n",
    "2- NumPy\n",
    "\n",
    "3-TensorFlow\n",
    "\n",
    "# Data Science Tools\n",
    "\n",
    "| IDE Names          |  \n",
    "|--------------------|\n",
    "| 1- Jupyter Notebook| \n",
    "| 2- RStudio         |    \n",
    "| 3- Spyder          | \n",
    "\n",
    "### Below are a few examples of evaluating arithmetic expressions in Python."
   ]
  },
  {
   "cell_type": "code",
   "execution_count": 5,
   "id": "e4eed0ae-8e1f-4bdc-af28-fb9675e3ae19",
   "metadata": {},
   "outputs": [
    {
     "data": {
      "text/plain": [
       "17"
      ]
     },
     "execution_count": 5,
     "metadata": {},
     "output_type": "execute_result"
    }
   ],
   "source": [
    "#This a simple arithmetic expression to multiply then add integers\n",
    "(3*4)+5"
   ]
  },
  {
   "cell_type": "code",
   "execution_count": 6,
   "id": "64be3142-0c19-47e3-9daa-387fcc54a067",
   "metadata": {},
   "outputs": [
    {
     "data": {
      "text/plain": [
       "3.3333333333333335"
      ]
     },
     "execution_count": 6,
     "metadata": {},
     "output_type": "execute_result"
    }
   ],
   "source": [
    "#This will convert 200 minutes to hours by diving by 60\n",
    "200/60"
   ]
  },
  {
   "cell_type": "markdown",
   "id": "e5297d4a-30b5-4606-8f63-f0fbbf3afd53",
   "metadata": {},
   "source": [
    "## Author ##\n",
    "Nima Tootkaboni"
   ]
  },
  {
   "cell_type": "code",
   "execution_count": null,
   "id": "962b5dfa-973a-4859-9cfa-2c426b6c8dff",
   "metadata": {},
   "outputs": [],
   "source": []
  }
 ],
 "metadata": {
  "kernelspec": {
   "display_name": "Python 3 (ipykernel)",
   "language": "python",
   "name": "python3"
  },
  "language_info": {
   "codemirror_mode": {
    "name": "ipython",
    "version": 3
   },
   "file_extension": ".py",
   "mimetype": "text/x-python",
   "name": "python",
   "nbconvert_exporter": "python",
   "pygments_lexer": "ipython3",
   "version": "3.12.4"
  }
 },
 "nbformat": 4,
 "nbformat_minor": 5
}
